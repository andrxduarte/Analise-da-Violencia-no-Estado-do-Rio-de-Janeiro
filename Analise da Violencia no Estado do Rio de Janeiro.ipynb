{
 "cells": [
  {
   "cell_type": "markdown",
   "id": "cfe76558",
   "metadata": {},
   "source": [
    "## Analise da Violência no Rio de Janeiro"
   ]
  },
  {
   "cell_type": "markdown",
   "id": "d3e68d97",
   "metadata": {},
   "source": [
    "Os calculos das informações podem conter erros, sinta-se à vontade para entrar em contato comigo para troca de informações :)"
   ]
  },
  {
   "cell_type": "markdown",
   "id": "93db7cc5",
   "metadata": {},
   "source": [
    "![riodejaneiroimagem](https://cdn.pixabay.com/photo/2017/09/26/23/05/rio-de-janeiro-2790455_960_720.jpg)"
   ]
  },
  {
   "cell_type": "markdown",
   "id": "18811c68",
   "metadata": {},
   "source": [
    "O  estado do Rio de Janeiro é mundialmente conhecido por suas belas praias, Cristo Redentor, Pão de açúcar, entre outras belezas naturais que carrega em seu território. porém, vem sendo reconhecido também pelo alto índice de criminalidade presente.\n",
    "\n",
    "Os dados usados nesta análise foram obtidos através do [ISPDados](http://www.ispdados.rj.gov.br/estatistica.html), onde é possível consultar essas informações no site oficial do estado do Rio de janeiro, pois estão disponibilizadas publicamente na internet."
   ]
  },
  {
   "cell_type": "markdown",
   "id": "29c0581c",
   "metadata": {},
   "source": [
    "### Importando os dados"
   ]
  },
  {
   "cell_type": "markdown",
   "id": "29cf4393",
   "metadata": {},
   "source": [
    "Inicialmente iremos importar as bibliotecas:\n",
    "\n",
    "* `pandas` - para manipulação do nosso conjunto de dados.\n",
    "* `matplotlib` e `seaborn` - que será ultilizado para auxiliar nas visualizações de dados."
   ]
  },
  {
   "cell_type": "code",
   "execution_count": 1,
   "id": "acc7c45f",
   "metadata": {},
   "outputs": [],
   "source": [
    "import pandas as pd\n",
    "import matplotlib.pyplot as plt\n",
    "import seaborn as sns"
   ]
  },
  {
   "cell_type": "markdown",
   "id": "0a372de3",
   "metadata": {},
   "source": [
    "Coletando as informações "
   ]
  },
  {
   "cell_type": "code",
   "execution_count": 2,
   "id": "cd56c207",
   "metadata": {},
   "outputs": [],
   "source": [
    "rio_de_janeiro = pd.read_csv('https://raw.githubusercontent.com/carlosfab/dsnp2/master/datasets/violencia_rio.csv')"
   ]
  },
  {
   "cell_type": "markdown",
   "id": "9c77ce68",
   "metadata": {},
   "source": [
    "Visualizando as cinco primeira linhas de informações"
   ]
  },
  {
   "cell_type": "code",
   "execution_count": 3,
   "id": "6cdc0ca2",
   "metadata": {
    "scrolled": true
   },
   "outputs": [
    {
     "data": {
      "text/html": [
       "<div>\n",
       "<style scoped>\n",
       "    .dataframe tbody tr th:only-of-type {\n",
       "        vertical-align: middle;\n",
       "    }\n",
       "\n",
       "    .dataframe tbody tr th {\n",
       "        vertical-align: top;\n",
       "    }\n",
       "\n",
       "    .dataframe thead th {\n",
       "        text-align: right;\n",
       "    }\n",
       "</style>\n",
       "<table border=\"1\" class=\"dataframe\">\n",
       "  <thead>\n",
       "    <tr style=\"text-align: right;\">\n",
       "      <th></th>\n",
       "      <th>vano</th>\n",
       "      <th>mes</th>\n",
       "      <th>hom_doloso</th>\n",
       "      <th>lesao_corp_morte</th>\n",
       "      <th>latrocinio</th>\n",
       "      <th>hom_por_interv_policial</th>\n",
       "      <th>tentat_hom</th>\n",
       "      <th>lesao_corp_dolosa</th>\n",
       "      <th>estupro</th>\n",
       "      <th>hom_culposo</th>\n",
       "      <th>...</th>\n",
       "      <th>pessoas_desaparecidas</th>\n",
       "      <th>encontro_cadaver</th>\n",
       "      <th>encontro_ossada</th>\n",
       "      <th>pol_militares_mortos_serv</th>\n",
       "      <th>pol_civis_mortos_serv</th>\n",
       "      <th>indicador_letalidade</th>\n",
       "      <th>indicador_roubo_rua</th>\n",
       "      <th>indicador_roubo_veic</th>\n",
       "      <th>registro_ocorrencias</th>\n",
       "      <th>fase</th>\n",
       "    </tr>\n",
       "  </thead>\n",
       "  <tbody>\n",
       "    <tr>\n",
       "      <th>0</th>\n",
       "      <td>1991</td>\n",
       "      <td>1</td>\n",
       "      <td>657</td>\n",
       "      <td>NaN</td>\n",
       "      <td>15</td>\n",
       "      <td>NaN</td>\n",
       "      <td>162</td>\n",
       "      <td>3051</td>\n",
       "      <td>NaN</td>\n",
       "      <td>NaN</td>\n",
       "      <td>...</td>\n",
       "      <td>NaN</td>\n",
       "      <td>217</td>\n",
       "      <td>NaN</td>\n",
       "      <td>NaN</td>\n",
       "      <td>NaN</td>\n",
       "      <td>672</td>\n",
       "      <td>1348</td>\n",
       "      <td>1174</td>\n",
       "      <td>NaN</td>\n",
       "      <td>3</td>\n",
       "    </tr>\n",
       "    <tr>\n",
       "      <th>1</th>\n",
       "      <td>1991</td>\n",
       "      <td>2</td>\n",
       "      <td>732</td>\n",
       "      <td>NaN</td>\n",
       "      <td>17</td>\n",
       "      <td>NaN</td>\n",
       "      <td>175</td>\n",
       "      <td>3421</td>\n",
       "      <td>NaN</td>\n",
       "      <td>NaN</td>\n",
       "      <td>...</td>\n",
       "      <td>NaN</td>\n",
       "      <td>209</td>\n",
       "      <td>NaN</td>\n",
       "      <td>NaN</td>\n",
       "      <td>NaN</td>\n",
       "      <td>749</td>\n",
       "      <td>1395</td>\n",
       "      <td>1097</td>\n",
       "      <td>NaN</td>\n",
       "      <td>3</td>\n",
       "    </tr>\n",
       "    <tr>\n",
       "      <th>2</th>\n",
       "      <td>1991</td>\n",
       "      <td>3</td>\n",
       "      <td>713</td>\n",
       "      <td>NaN</td>\n",
       "      <td>25</td>\n",
       "      <td>NaN</td>\n",
       "      <td>216</td>\n",
       "      <td>3613</td>\n",
       "      <td>NaN</td>\n",
       "      <td>NaN</td>\n",
       "      <td>...</td>\n",
       "      <td>NaN</td>\n",
       "      <td>188</td>\n",
       "      <td>NaN</td>\n",
       "      <td>NaN</td>\n",
       "      <td>NaN</td>\n",
       "      <td>738</td>\n",
       "      <td>1385</td>\n",
       "      <td>1265</td>\n",
       "      <td>NaN</td>\n",
       "      <td>3</td>\n",
       "    </tr>\n",
       "    <tr>\n",
       "      <th>3</th>\n",
       "      <td>1991</td>\n",
       "      <td>4</td>\n",
       "      <td>634</td>\n",
       "      <td>NaN</td>\n",
       "      <td>20</td>\n",
       "      <td>NaN</td>\n",
       "      <td>200</td>\n",
       "      <td>3211</td>\n",
       "      <td>NaN</td>\n",
       "      <td>NaN</td>\n",
       "      <td>...</td>\n",
       "      <td>NaN</td>\n",
       "      <td>140</td>\n",
       "      <td>NaN</td>\n",
       "      <td>NaN</td>\n",
       "      <td>NaN</td>\n",
       "      <td>654</td>\n",
       "      <td>1540</td>\n",
       "      <td>1415</td>\n",
       "      <td>NaN</td>\n",
       "      <td>3</td>\n",
       "    </tr>\n",
       "    <tr>\n",
       "      <th>4</th>\n",
       "      <td>1991</td>\n",
       "      <td>5</td>\n",
       "      <td>650</td>\n",
       "      <td>NaN</td>\n",
       "      <td>20</td>\n",
       "      <td>NaN</td>\n",
       "      <td>146</td>\n",
       "      <td>3051</td>\n",
       "      <td>NaN</td>\n",
       "      <td>NaN</td>\n",
       "      <td>...</td>\n",
       "      <td>NaN</td>\n",
       "      <td>78</td>\n",
       "      <td>NaN</td>\n",
       "      <td>NaN</td>\n",
       "      <td>NaN</td>\n",
       "      <td>670</td>\n",
       "      <td>1266</td>\n",
       "      <td>1449</td>\n",
       "      <td>NaN</td>\n",
       "      <td>3</td>\n",
       "    </tr>\n",
       "  </tbody>\n",
       "</table>\n",
       "<p>5 rows × 56 columns</p>\n",
       "</div>"
      ],
      "text/plain": [
       "   vano  mes  hom_doloso  lesao_corp_morte  latrocinio  \\\n",
       "0  1991    1         657               NaN          15   \n",
       "1  1991    2         732               NaN          17   \n",
       "2  1991    3         713               NaN          25   \n",
       "3  1991    4         634               NaN          20   \n",
       "4  1991    5         650               NaN          20   \n",
       "\n",
       "   hom_por_interv_policial  tentat_hom  lesao_corp_dolosa  estupro  \\\n",
       "0                      NaN         162               3051      NaN   \n",
       "1                      NaN         175               3421      NaN   \n",
       "2                      NaN         216               3613      NaN   \n",
       "3                      NaN         200               3211      NaN   \n",
       "4                      NaN         146               3051      NaN   \n",
       "\n",
       "   hom_culposo  ...  pessoas_desaparecidas  encontro_cadaver  encontro_ossada  \\\n",
       "0          NaN  ...                    NaN               217              NaN   \n",
       "1          NaN  ...                    NaN               209              NaN   \n",
       "2          NaN  ...                    NaN               188              NaN   \n",
       "3          NaN  ...                    NaN               140              NaN   \n",
       "4          NaN  ...                    NaN                78              NaN   \n",
       "\n",
       "   pol_militares_mortos_serv  pol_civis_mortos_serv  indicador_letalidade  \\\n",
       "0                        NaN                    NaN                   672   \n",
       "1                        NaN                    NaN                   749   \n",
       "2                        NaN                    NaN                   738   \n",
       "3                        NaN                    NaN                   654   \n",
       "4                        NaN                    NaN                   670   \n",
       "\n",
       "   indicador_roubo_rua  indicador_roubo_veic  registro_ocorrencias  fase  \n",
       "0                 1348                  1174                   NaN     3  \n",
       "1                 1395                  1097                   NaN     3  \n",
       "2                 1385                  1265                   NaN     3  \n",
       "3                 1540                  1415                   NaN     3  \n",
       "4                 1266                  1449                   NaN     3  \n",
       "\n",
       "[5 rows x 56 columns]"
      ]
     },
     "execution_count": 3,
     "metadata": {},
     "output_type": "execute_result"
    }
   ],
   "source": [
    "rio_de_janeiro.head()"
   ]
  },
  {
   "cell_type": "markdown",
   "id": "00c48646",
   "metadata": {},
   "source": [
    "Vamos usar o método `info` a fim de obter mais informações sobre o dataset."
   ]
  },
  {
   "cell_type": "code",
   "execution_count": 4,
   "id": "003cdd76",
   "metadata": {
    "scrolled": false
   },
   "outputs": [
    {
     "name": "stdout",
     "output_type": "stream",
     "text": [
      "<class 'pandas.core.frame.DataFrame'>\n",
      "RangeIndex: 344 entries, 0 to 343\n",
      "Data columns (total 56 columns):\n",
      " #   Column                      Non-Null Count  Dtype  \n",
      "---  ------                      --------------  -----  \n",
      " 0   vano                        344 non-null    int64  \n",
      " 1   mes                         344 non-null    int64  \n",
      " 2   hom_doloso                  344 non-null    int64  \n",
      " 3   lesao_corp_morte            248 non-null    float64\n",
      " 4   latrocinio                  344 non-null    int64  \n",
      " 5   hom_por_interv_policial     260 non-null    float64\n",
      " 6   tentat_hom                  344 non-null    int64  \n",
      " 7   lesao_corp_dolosa           344 non-null    int64  \n",
      " 8   estupro                     200 non-null    float64\n",
      " 9   hom_culposo                 260 non-null    float64\n",
      " 10  lesao_corp_culposa          248 non-null    float64\n",
      " 11  roubo_comercio              344 non-null    int64  \n",
      " 12  roubo_residencia            344 non-null    int64  \n",
      " 13  roubo_veiculo               344 non-null    int64  \n",
      " 14  roubo_carga                 344 non-null    int64  \n",
      " 15  roubo_transeunte            344 non-null    int64  \n",
      " 16  roubo_em_coletivo           344 non-null    int64  \n",
      " 17  roubo_banco                 344 non-null    int64  \n",
      " 18  roubo_cx_eletronico         200 non-null    float64\n",
      " 19  roubo_celular               236 non-null    float64\n",
      " 20  roubo_conducao_saque        200 non-null    float64\n",
      " 21  roubo_apos_saque            200 non-null    float64\n",
      " 22  roubo_bicicleta             68 non-null     float64\n",
      " 23  outros_roubos               344 non-null    int64  \n",
      " 24  total_roubos                344 non-null    int64  \n",
      " 25  furto_veiculos              344 non-null    int64  \n",
      " 26  furto_transeunte            344 non-null    int64  \n",
      " 27  furto_coletivo              200 non-null    float64\n",
      " 28  furto_celular               200 non-null    float64\n",
      " 29  furto_bicicleta             68 non-null     float64\n",
      " 30  outros_furtos               344 non-null    int64  \n",
      " 31  total_furtos                344 non-null    int64  \n",
      " 32  sequestro                   248 non-null    float64\n",
      " 33  extorsao                    200 non-null    float64\n",
      " 34  sequestro_relampago         200 non-null    float64\n",
      " 35  estelionato                 200 non-null    float64\n",
      " 36  apreensao_drogas            344 non-null    int64  \n",
      " 37  posse_drogas                164 non-null    float64\n",
      " 38  trafico_drogas              164 non-null    float64\n",
      " 39  apreensao_drogas_sem_autor  164 non-null    float64\n",
      " 40  recuperacao_veiculos        344 non-null    int64  \n",
      " 41  apf                         164 non-null    float64\n",
      " 42  aaapai                      164 non-null    float64\n",
      " 43  cmp                         164 non-null    float64\n",
      " 44  cmba                        164 non-null    float64\n",
      " 45  ameaca                      248 non-null    float64\n",
      " 46  pessoas_desaparecidas       212 non-null    float64\n",
      " 47  encontro_cadaver            344 non-null    int64  \n",
      " 48  encontro_ossada             212 non-null    float64\n",
      " 49  pol_militares_mortos_serv   200 non-null    float64\n",
      " 50  pol_civis_mortos_serv       200 non-null    float64\n",
      " 51  indicador_letalidade        344 non-null    int64  \n",
      " 52  indicador_roubo_rua         344 non-null    int64  \n",
      " 53  indicador_roubo_veic        344 non-null    int64  \n",
      " 54  registro_ocorrencias        248 non-null    float64\n",
      " 55  fase                        344 non-null    int64  \n",
      "dtypes: float64(30), int64(26)\n",
      "memory usage: 150.6 KB\n"
     ]
    }
   ],
   "source": [
    "rio_de_janeiro.info()"
   ]
  },
  {
   "cell_type": "markdown",
   "id": "10baac6c",
   "metadata": {},
   "source": [
    "Por se tratar de um dataset com muitas informações tendo 56 colunas e 344 linhas, há de conter informações de valores nulos e incompletos. Por isso, devemos verificar os valores."
   ]
  },
  {
   "cell_type": "code",
   "execution_count": 5,
   "id": "65a29930",
   "metadata": {},
   "outputs": [
    {
     "data": {
      "text/plain": [
       "furto_bicicleta               0.802326\n",
       "roubo_bicicleta               0.802326\n",
       "cmba                          0.523256\n",
       "posse_drogas                  0.523256\n",
       "trafico_drogas                0.523256\n",
       "apreensao_drogas_sem_autor    0.523256\n",
       "apf                           0.523256\n",
       "aaapai                        0.523256\n",
       "cmp                           0.523256\n",
       "furto_celular                 0.418605\n",
       "sequestro_relampago           0.418605\n",
       "extorsao                      0.418605\n",
       "furto_coletivo                0.418605\n",
       "roubo_apos_saque              0.418605\n",
       "roubo_conducao_saque          0.418605\n",
       "roubo_cx_eletronico           0.418605\n",
       "estelionato                   0.418605\n",
       "pol_militares_mortos_serv     0.418605\n",
       "pol_civis_mortos_serv         0.418605\n",
       "estupro                       0.418605\n",
       "pessoas_desaparecidas         0.383721\n",
       "encontro_ossada               0.383721\n",
       "roubo_celular                 0.313953\n",
       "registro_ocorrencias          0.279070\n",
       "lesao_corp_morte              0.279070\n",
       "sequestro                     0.279070\n",
       "ameaca                        0.279070\n",
       "lesao_corp_culposa            0.279070\n",
       "hom_culposo                   0.244186\n",
       "hom_por_interv_policial       0.244186\n",
       "indicador_letalidade          0.000000\n",
       "indicador_roubo_rua           0.000000\n",
       "indicador_roubo_veic          0.000000\n",
       "encontro_cadaver              0.000000\n",
       "apreensao_drogas              0.000000\n",
       "recuperacao_veiculos          0.000000\n",
       "vano                          0.000000\n",
       "total_furtos                  0.000000\n",
       "roubo_carga                   0.000000\n",
       "hom_doloso                    0.000000\n",
       "latrocinio                    0.000000\n",
       "tentat_hom                    0.000000\n",
       "lesao_corp_dolosa             0.000000\n",
       "roubo_comercio                0.000000\n",
       "roubo_residencia              0.000000\n",
       "roubo_veiculo                 0.000000\n",
       "roubo_transeunte              0.000000\n",
       "outros_furtos                 0.000000\n",
       "roubo_em_coletivo             0.000000\n",
       "roubo_banco                   0.000000\n",
       "outros_roubos                 0.000000\n",
       "total_roubos                  0.000000\n",
       "furto_veiculos                0.000000\n",
       "furto_transeunte              0.000000\n",
       "mes                           0.000000\n",
       "fase                          0.000000\n",
       "dtype: float64"
      ]
     },
     "execution_count": 5,
     "metadata": {},
     "output_type": "execute_result"
    }
   ],
   "source": [
    "(rio_de_janeiro.isnull().sum()/rio_de_janeiro.shape[0]).sort_values(ascending=False)"
   ]
  },
  {
   "cell_type": "markdown",
   "id": "49c2be5f",
   "metadata": {},
   "source": [
    "Ordenando as variáveis em ordem crescente, notamos que existe uma quantidade elevada de valores nulos e incompletos, tais como;\n",
    "\n",
    "`furto_bicicleta` e `roubo_bicicleta` possuem 80,23% de valores ausente.\n",
    "\n",
    "`cmba(Cumprimento de Mandado de Busca e Apreensão)` e `posse_drogas` possuem 52,32% de valores ausente.\n",
    "\n",
    "e assim por diante.\n",
    "\n",
    "Devemos retirar os valores nulos para melhor ultilização dos dados. Assim pegarei somente as 30 colunas com valores nulos/incompletos e transformarei em uma lista para melhor uso."
   ]
  },
  {
   "cell_type": "code",
   "execution_count": 6,
   "id": "3d9b7786",
   "metadata": {
    "scrolled": false
   },
   "outputs": [
    {
     "data": {
      "text/plain": [
       "['furto_bicicleta',\n",
       " 'roubo_bicicleta',\n",
       " 'cmba',\n",
       " 'posse_drogas',\n",
       " 'trafico_drogas',\n",
       " 'apreensao_drogas_sem_autor',\n",
       " 'apf',\n",
       " 'aaapai',\n",
       " 'cmp',\n",
       " 'furto_celular',\n",
       " 'sequestro_relampago',\n",
       " 'extorsao',\n",
       " 'furto_coletivo',\n",
       " 'roubo_apos_saque',\n",
       " 'roubo_conducao_saque',\n",
       " 'roubo_cx_eletronico',\n",
       " 'estelionato',\n",
       " 'pol_militares_mortos_serv',\n",
       " 'pol_civis_mortos_serv',\n",
       " 'estupro',\n",
       " 'pessoas_desaparecidas',\n",
       " 'encontro_ossada',\n",
       " 'roubo_celular',\n",
       " 'registro_ocorrencias',\n",
       " 'lesao_corp_morte',\n",
       " 'sequestro',\n",
       " 'ameaca',\n",
       " 'lesao_corp_culposa',\n",
       " 'hom_culposo',\n",
       " 'hom_por_interv_policial']"
      ]
     },
     "execution_count": 6,
     "metadata": {},
     "output_type": "execute_result"
    }
   ],
   "source": [
    "colunas = (rio_de_janeiro.isnull().sum()/rio_de_janeiro.shape[0]).sort_values(ascending=False)[:30]\n",
    "colunas = colunas.index.tolist()\n",
    "colunas"
   ]
  },
  {
   "cell_type": "markdown",
   "id": "b189b3fa",
   "metadata": {},
   "source": [
    "Apagando os valores nulos/incompletos e visualizando as linhas com novas informações."
   ]
  },
  {
   "cell_type": "code",
   "execution_count": 7,
   "id": "32b61664",
   "metadata": {
    "scrolled": true
   },
   "outputs": [],
   "source": [
    "rio_de_janeiro.drop(colunas, axis=1, inplace=True)"
   ]
  },
  {
   "cell_type": "code",
   "execution_count": 14,
   "id": "bbab55c5",
   "metadata": {},
   "outputs": [
    {
     "data": {
      "text/html": [
       "<div>\n",
       "<style scoped>\n",
       "    .dataframe tbody tr th:only-of-type {\n",
       "        vertical-align: middle;\n",
       "    }\n",
       "\n",
       "    .dataframe tbody tr th {\n",
       "        vertical-align: top;\n",
       "    }\n",
       "\n",
       "    .dataframe thead th {\n",
       "        text-align: right;\n",
       "    }\n",
       "</style>\n",
       "<table border=\"1\" class=\"dataframe\">\n",
       "  <thead>\n",
       "    <tr style=\"text-align: right;\">\n",
       "      <th></th>\n",
       "      <th>ano</th>\n",
       "      <th>mes</th>\n",
       "      <th>hom_doloso</th>\n",
       "      <th>latrocinio</th>\n",
       "      <th>tentat_hom</th>\n",
       "      <th>lesao_corp_dolosa</th>\n",
       "      <th>roubo_comercio</th>\n",
       "      <th>roubo_residencia</th>\n",
       "      <th>roubo_veiculo</th>\n",
       "      <th>roubo_carga</th>\n",
       "      <th>...</th>\n",
       "      <th>outros_furtos</th>\n",
       "      <th>total_furtos</th>\n",
       "      <th>apreensao_drogas</th>\n",
       "      <th>recuperacao_veiculos</th>\n",
       "      <th>encontro_cadaver</th>\n",
       "      <th>indicador_letalidade</th>\n",
       "      <th>indicador_roubo_rua</th>\n",
       "      <th>indicador_roubo_veic</th>\n",
       "      <th>fase</th>\n",
       "      <th>data</th>\n",
       "    </tr>\n",
       "  </thead>\n",
       "  <tbody>\n",
       "    <tr>\n",
       "      <th>0</th>\n",
       "      <td>1991</td>\n",
       "      <td>1</td>\n",
       "      <td>657</td>\n",
       "      <td>15</td>\n",
       "      <td>162</td>\n",
       "      <td>3051</td>\n",
       "      <td>350</td>\n",
       "      <td>188</td>\n",
       "      <td>1174</td>\n",
       "      <td>63</td>\n",
       "      <td>...</td>\n",
       "      <td>3561</td>\n",
       "      <td>6717</td>\n",
       "      <td>133</td>\n",
       "      <td>872</td>\n",
       "      <td>217</td>\n",
       "      <td>672</td>\n",
       "      <td>1348</td>\n",
       "      <td>1174</td>\n",
       "      <td>3</td>\n",
       "      <td>1/1991</td>\n",
       "    </tr>\n",
       "    <tr>\n",
       "      <th>1</th>\n",
       "      <td>1991</td>\n",
       "      <td>2</td>\n",
       "      <td>732</td>\n",
       "      <td>17</td>\n",
       "      <td>175</td>\n",
       "      <td>3421</td>\n",
       "      <td>357</td>\n",
       "      <td>171</td>\n",
       "      <td>1097</td>\n",
       "      <td>64</td>\n",
       "      <td>...</td>\n",
       "      <td>3309</td>\n",
       "      <td>6225</td>\n",
       "      <td>127</td>\n",
       "      <td>751</td>\n",
       "      <td>209</td>\n",
       "      <td>749</td>\n",
       "      <td>1395</td>\n",
       "      <td>1097</td>\n",
       "      <td>3</td>\n",
       "      <td>2/1991</td>\n",
       "    </tr>\n",
       "    <tr>\n",
       "      <th>2</th>\n",
       "      <td>1991</td>\n",
       "      <td>3</td>\n",
       "      <td>713</td>\n",
       "      <td>25</td>\n",
       "      <td>216</td>\n",
       "      <td>3613</td>\n",
       "      <td>443</td>\n",
       "      <td>191</td>\n",
       "      <td>1265</td>\n",
       "      <td>71</td>\n",
       "      <td>...</td>\n",
       "      <td>3573</td>\n",
       "      <td>6719</td>\n",
       "      <td>80</td>\n",
       "      <td>789</td>\n",
       "      <td>188</td>\n",
       "      <td>738</td>\n",
       "      <td>1385</td>\n",
       "      <td>1265</td>\n",
       "      <td>3</td>\n",
       "      <td>3/1991</td>\n",
       "    </tr>\n",
       "    <tr>\n",
       "      <th>3</th>\n",
       "      <td>1991</td>\n",
       "      <td>4</td>\n",
       "      <td>634</td>\n",
       "      <td>20</td>\n",
       "      <td>200</td>\n",
       "      <td>3211</td>\n",
       "      <td>425</td>\n",
       "      <td>199</td>\n",
       "      <td>1415</td>\n",
       "      <td>81</td>\n",
       "      <td>...</td>\n",
       "      <td>3290</td>\n",
       "      <td>6570</td>\n",
       "      <td>133</td>\n",
       "      <td>787</td>\n",
       "      <td>140</td>\n",
       "      <td>654</td>\n",
       "      <td>1540</td>\n",
       "      <td>1415</td>\n",
       "      <td>3</td>\n",
       "      <td>4/1991</td>\n",
       "    </tr>\n",
       "    <tr>\n",
       "      <th>4</th>\n",
       "      <td>1991</td>\n",
       "      <td>5</td>\n",
       "      <td>650</td>\n",
       "      <td>20</td>\n",
       "      <td>146</td>\n",
       "      <td>3051</td>\n",
       "      <td>553</td>\n",
       "      <td>231</td>\n",
       "      <td>1449</td>\n",
       "      <td>82</td>\n",
       "      <td>...</td>\n",
       "      <td>3546</td>\n",
       "      <td>6454</td>\n",
       "      <td>163</td>\n",
       "      <td>845</td>\n",
       "      <td>78</td>\n",
       "      <td>670</td>\n",
       "      <td>1266</td>\n",
       "      <td>1449</td>\n",
       "      <td>3</td>\n",
       "      <td>5/1991</td>\n",
       "    </tr>\n",
       "  </tbody>\n",
       "</table>\n",
       "<p>5 rows × 27 columns</p>\n",
       "</div>"
      ],
      "text/plain": [
       "    ano  mes  hom_doloso  latrocinio  tentat_hom  lesao_corp_dolosa  \\\n",
       "0  1991    1         657          15         162               3051   \n",
       "1  1991    2         732          17         175               3421   \n",
       "2  1991    3         713          25         216               3613   \n",
       "3  1991    4         634          20         200               3211   \n",
       "4  1991    5         650          20         146               3051   \n",
       "\n",
       "   roubo_comercio  roubo_residencia  roubo_veiculo  roubo_carga  ...  \\\n",
       "0             350               188           1174           63  ...   \n",
       "1             357               171           1097           64  ...   \n",
       "2             443               191           1265           71  ...   \n",
       "3             425               199           1415           81  ...   \n",
       "4             553               231           1449           82  ...   \n",
       "\n",
       "   outros_furtos  total_furtos  apreensao_drogas  recuperacao_veiculos  \\\n",
       "0           3561          6717               133                   872   \n",
       "1           3309          6225               127                   751   \n",
       "2           3573          6719                80                   789   \n",
       "3           3290          6570               133                   787   \n",
       "4           3546          6454               163                   845   \n",
       "\n",
       "   encontro_cadaver  indicador_letalidade  indicador_roubo_rua  \\\n",
       "0               217                   672                 1348   \n",
       "1               209                   749                 1395   \n",
       "2               188                   738                 1385   \n",
       "3               140                   654                 1540   \n",
       "4                78                   670                 1266   \n",
       "\n",
       "   indicador_roubo_veic  fase    data  \n",
       "0                  1174     3  1/1991  \n",
       "1                  1097     3  2/1991  \n",
       "2                  1265     3  3/1991  \n",
       "3                  1415     3  4/1991  \n",
       "4                  1449     3  5/1991  \n",
       "\n",
       "[5 rows x 27 columns]"
      ]
     },
     "execution_count": 14,
     "metadata": {},
     "output_type": "execute_result"
    }
   ],
   "source": [
    "rio_de_janeiro.head()"
   ]
  },
  {
   "cell_type": "markdown",
   "id": "dd7b0653",
   "metadata": {},
   "source": [
    "Verificando novamente os valores."
   ]
  },
  {
   "cell_type": "code",
   "execution_count": 8,
   "id": "3c05f2bd",
   "metadata": {
    "scrolled": false
   },
   "outputs": [
    {
     "data": {
      "text/plain": [
       "vano                    0.0\n",
       "mes                     0.0\n",
       "indicador_roubo_veic    0.0\n",
       "indicador_roubo_rua     0.0\n",
       "indicador_letalidade    0.0\n",
       "encontro_cadaver        0.0\n",
       "recuperacao_veiculos    0.0\n",
       "apreensao_drogas        0.0\n",
       "total_furtos            0.0\n",
       "outros_furtos           0.0\n",
       "furto_transeunte        0.0\n",
       "furto_veiculos          0.0\n",
       "total_roubos            0.0\n",
       "outros_roubos           0.0\n",
       "roubo_banco             0.0\n",
       "roubo_em_coletivo       0.0\n",
       "roubo_transeunte        0.0\n",
       "roubo_carga             0.0\n",
       "roubo_veiculo           0.0\n",
       "roubo_residencia        0.0\n",
       "roubo_comercio          0.0\n",
       "lesao_corp_dolosa       0.0\n",
       "tentat_hom              0.0\n",
       "latrocinio              0.0\n",
       "hom_doloso              0.0\n",
       "fase                    0.0\n",
       "dtype: float64"
      ]
     },
     "execution_count": 8,
     "metadata": {},
     "output_type": "execute_result"
    }
   ],
   "source": [
    "(rio_de_janeiro.isnull().sum()/rio_de_janeiro.shape[0]).sort_values(ascending=False)"
   ]
  },
  {
   "cell_type": "markdown",
   "id": "9d3e7746",
   "metadata": {},
   "source": [
    "Usarei apenas as variáveis `furto_veiculos` e `roubo_veiculo`."
   ]
  },
  {
   "cell_type": "code",
   "execution_count": 9,
   "id": "31fc3d6e",
   "metadata": {},
   "outputs": [
    {
     "name": "stdout",
     "output_type": "stream",
     "text": [
      "<class 'pandas.core.frame.DataFrame'>\n",
      "RangeIndex: 344 entries, 0 to 343\n",
      "Data columns (total 26 columns):\n",
      " #   Column                Non-Null Count  Dtype\n",
      "---  ------                --------------  -----\n",
      " 0   vano                  344 non-null    int64\n",
      " 1   mes                   344 non-null    int64\n",
      " 2   hom_doloso            344 non-null    int64\n",
      " 3   latrocinio            344 non-null    int64\n",
      " 4   tentat_hom            344 non-null    int64\n",
      " 5   lesao_corp_dolosa     344 non-null    int64\n",
      " 6   roubo_comercio        344 non-null    int64\n",
      " 7   roubo_residencia      344 non-null    int64\n",
      " 8   roubo_veiculo         344 non-null    int64\n",
      " 9   roubo_carga           344 non-null    int64\n",
      " 10  roubo_transeunte      344 non-null    int64\n",
      " 11  roubo_em_coletivo     344 non-null    int64\n",
      " 12  roubo_banco           344 non-null    int64\n",
      " 13  outros_roubos         344 non-null    int64\n",
      " 14  total_roubos          344 non-null    int64\n",
      " 15  furto_veiculos        344 non-null    int64\n",
      " 16  furto_transeunte      344 non-null    int64\n",
      " 17  outros_furtos         344 non-null    int64\n",
      " 18  total_furtos          344 non-null    int64\n",
      " 19  apreensao_drogas      344 non-null    int64\n",
      " 20  recuperacao_veiculos  344 non-null    int64\n",
      " 21  encontro_cadaver      344 non-null    int64\n",
      " 22  indicador_letalidade  344 non-null    int64\n",
      " 23  indicador_roubo_rua   344 non-null    int64\n",
      " 24  indicador_roubo_veic  344 non-null    int64\n",
      " 25  fase                  344 non-null    int64\n",
      "dtypes: int64(26)\n",
      "memory usage: 70.0 KB\n"
     ]
    }
   ],
   "source": [
    "rio_de_janeiro.info()"
   ]
  },
  {
   "cell_type": "markdown",
   "id": "865ff832",
   "metadata": {},
   "source": [
    "Após as verificações dos valores, vamos organizar o dataframe para melhor uso."
   ]
  },
  {
   "cell_type": "code",
   "execution_count": 10,
   "id": "9fc372af",
   "metadata": {},
   "outputs": [],
   "source": [
    "rio_de_janeiro= rio_de_janeiro.rename(columns={'vano':'ano'})\n",
    "rio_de_janeiro['data'] = rio_de_janeiro['mes'].astype(str) + '/' + rio_de_janeiro['ano'].astype(str)"
   ]
  },
  {
   "cell_type": "markdown",
   "id": "3b62e306",
   "metadata": {},
   "source": [
    "## Furtos e Roubos de Veículos  "
   ]
  },
  {
   "cell_type": "code",
   "execution_count": 15,
   "id": "807217bb",
   "metadata": {},
   "outputs": [
    {
     "name": "stdout",
     "output_type": "stream",
     "text": [
      "Média mensal de veículos furtados: 1674.67\n",
      "Média mensal de veículos roubados: 2448.7\n"
     ]
    }
   ],
   "source": [
    "furto_veiculos = round((rio_de_janeiro['furto_veiculos'].mean()),2)\n",
    "veiculos_roubados = round((rio_de_janeiro['roubo_veiculo'].mean()),2)\n",
    "\n",
    "print('Média mensal de veículos furtados:',furto_veiculos)\n",
    "print('Média mensal de veículos roubados:',veiculos_roubados)"
   ]
  },
  {
   "cell_type": "markdown",
   "id": "f06a9686",
   "metadata": {},
   "source": [
    "##  Visualização de Dados"
   ]
  },
  {
   "cell_type": "markdown",
   "id": "4c509aff",
   "metadata": {},
   "source": [
    "Na última etapa visualizaremos as informarções `furto_veiculos` e `roubo_veiculo` no gráfico para analisarmos seu comportamento no período de 1991 a 2019."
   ]
  },
  {
   "cell_type": "code",
   "execution_count": 12,
   "id": "37fc63a0",
   "metadata": {},
   "outputs": [
    {
     "data": {
      "image/png": "[encoded data removed]",
      "text/plain": [
       "<Figure size 1800x720 with 1 Axes>"
      ]
     },
     "metadata": {
      "needs_background": "light"
     },
     "output_type": "display_data"
    }
   ],
   "source": [
    "fig, (axis1) = plt.subplots(figsize=(25,10))\n",
    "grafico = rio_de_janeiro.sort_values(by='data')\n",
    "sns.barplot(x='ano', y='roubo_veiculo', data=grafico, ax=axis1)\n",
    "plt.title('Gráfico de Roubos de Veículos 1991-2019', fontsize=25)\n",
    "plt.box(False)\n",
    "plt.show()"
   ]
  },
  {
   "cell_type": "markdown",
   "id": "77d3f9cc",
   "metadata": {},
   "source": [
    "Observamos que os números de veículos roubados variou ao decorrer dos anos. Tendo uma forte queda em 2010 e 2011 e disparou tendo o seu apice em 2017 e caiu novamente em 2019."
   ]
  },
  {
   "cell_type": "code",
   "execution_count": 13,
   "id": "82d144e9",
   "metadata": {
    "scrolled": false
   },
   "outputs": [
    {
     "data": {
      "image/png": "[encoded data removed]",
      "text/plain": [
       "<Figure size 1800x720 with 1 Axes>"
      ]
     },
     "metadata": {
      "needs_background": "light"
     },
     "output_type": "display_data"
    }
   ],
   "source": [
    "fig, (axis1) = plt.subplots(figsize=(25,10))\n",
    "grafico = rio_de_janeiro.sort_values(by='data')\n",
    "sns.barplot(x='ano', y='furto_veiculos', data=grafico, ax=axis1)\n",
    "plt.title('Gráfico de Furto de Veículos 1991-2019', fontsize=25)\n",
    "plt.box(False)\n",
    "plt.show()"
   ]
  },
  {
   "cell_type": "markdown",
   "id": "181a3a42",
   "metadata": {},
   "source": [
    "No entanto, o número de furtos conservou-se estável e tendo uma pequena queda no periodo de 2013 e conservando-se ate 2019."
   ]
  },
  {
   "cell_type": "markdown",
   "id": "855a4f1f",
   "metadata": {},
   "source": [
    "## Conclusão"
   ]
  },
  {
   "cell_type": "markdown",
   "id": "1bd39a41",
   "metadata": {},
   "source": [
    "Torna-se evidente, portanto, que neste projeto foram realizadas inúmeras tarefas, podendo ser listadas como:\n",
    "\n",
    "* Analisar os dados\n",
    "* Limpeza e tratamento dos dados\n",
    "* Análise dos crimes envolvendo roubo e furto de veículos\n",
    "* Criação de gráficos para melhor entendimento\n",
    "\n",
    "À vista disso, finalizamos que:\n",
    "\n",
    "* O número de roubos de veículos aumentaram bruscamente e teve sua queda em 2019.\n",
    "* O número de furtos de veículos vem caindo desde 2013."
   ]
  },
  {
   "cell_type": "code",
   "execution_count": null,
   "id": "1b8639bf",
   "metadata": {},
   "outputs": [],
   "source": []
  }
 ],
 "metadata": {
  "kernelspec": {
   "display_name": "Python 3 (ipykernel)",
   "language": "python",
   "name": "python3"
  },
  "language_info": {
   "codemirror_mode": {
    "name": "ipython",
    "version": 3
   },
   "file_extension": ".py",
   "mimetype": "text/x-python",
   "name": "python",
   "nbconvert_exporter": "python",
   "pygments_lexer": "ipython3",
   "version": "3.9.12"
  }
 },
 "nbformat": 4,
 "nbformat_minor": 5
}
